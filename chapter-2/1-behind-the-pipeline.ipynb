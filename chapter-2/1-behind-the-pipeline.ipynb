{
  "cells": [
    {
      "cell_type": "markdown",
      "metadata": {
        "id": "view-in-github",
        "colab_type": "text"
      },
      "source": [
        "<a href=\"https://colab.research.google.com/github/IlyasMoutawwakil/IlyasMoutawwakil/blob/main/chapter-2/1-behind-the-pipeline.ipynb\" target=\"_parent\"><img src=\"https://colab.research.google.com/assets/colab-badge.svg\" alt=\"Open In Colab\"/></a>"
      ]
    },
    {
      "cell_type": "markdown",
      "id": "ece99ff0",
      "metadata": {
        "id": "ece99ff0"
      },
      "source": [
        "## Behind the pipeline\n",
        "Let’s start with a complete example, taking a look at what happened behind the scenes when we executed the following code in Chapter 1:"
      ]
    },
    {
      "cell_type": "code",
      "execution_count": null,
      "id": "79f82792",
      "metadata": {
        "id": "79f82792",
        "outputId": "cee39852-b93d-4f8d-f2e5-99078ca3dde3"
      },
      "outputs": [
        {
          "name": "stderr",
          "output_type": "stream",
          "text": [
            "No model was supplied, defaulted to distilbert-base-uncased-finetuned-sst-2-english (https://huggingface.co/distilbert-base-uncased-finetuned-sst-2-english)\n",
            "All model checkpoint layers were used when initializing TFDistilBertForSequenceClassification.\n",
            "\n",
            "All the layers of TFDistilBertForSequenceClassification were initialized from the model checkpoint at distilbert-base-uncased-finetuned-sst-2-english.\n",
            "If your task is similar to the task the model of the checkpoint was trained on, you can already use TFDistilBertForSequenceClassification for predictions without further training.\n"
          ]
        },
        {
          "data": {
            "text/plain": [
              "[{'label': 'POSITIVE', 'score': 0.9598047137260437},\n",
              " {'label': 'NEGATIVE', 'score': 0.9994558691978455}]"
            ]
          },
          "execution_count": 1,
          "metadata": {},
          "output_type": "execute_result"
        }
      ],
      "source": [
        "from transformers import pipeline\n",
        "\n",
        "classifier = pipeline(\"sentiment-analysis\")\n",
        "classifier(\n",
        "    [\n",
        "        \"I've been waiting for a HuggingFace course my whole life.\",\n",
        "        \"I hate this so much!\",\n",
        "    ]\n",
        ")"
      ]
    },
    {
      "cell_type": "markdown",
      "id": "93107ad7",
      "metadata": {
        "id": "93107ad7"
      },
      "source": [
        "As we saw in Chapter 1, this pipeline groups together three steps: preprocessing, passing the inputs through the model, and postprocessing:\n",
        "\n",
        "![full_nlp_pipeline](https://huggingface.co/course/static/chapter2/full_nlp_pipeline.png \"full_nlp_pipeline\")\n",
        "Let’s quickly go over each of these.\n",
        "\n",
        "### Preprocessing with a tokenizer\n",
        "Like other neural networks, Transformer models can’t process raw text directly, so the **first step of our pipeline is to convert the text inputs into numbers** that the model can make sense of. To do this we use a tokenizer, which will be responsible for:\n",
        "- Splitting the input into words, subwords, or symbols (like punctuation) that are called **tokens**.\n",
        "- Mapping each token to an integer.\n",
        "- Adding additional inputs that may be useful to the model.\n",
        "\n",
        "All this preprocessing needs to be done in exactly the same way as when the model was pretrained, so we first need to download that information from the Model Hub. <br>\n",
        "To do this, we use the **AutoTokenizer** class and its **from_pretrained()** method. Using the checkpoint name of our model, it will automatically fetch the data associated with the model’s tokenizer and cache it (so it’s only downloaded the first time you run the code below).\n",
        "\n",
        "Since the default checkpoint of the **sentiment-analysis** pipeline is **distilbert-base-uncased-finetuned-sst-2-english** (you can see its model card [here](https://huggingface.co/distilbert-base-uncased-finetuned-sst-2-english)), we run the following:"
      ]
    },
    {
      "cell_type": "code",
      "execution_count": null,
      "id": "1dd5a5ee",
      "metadata": {
        "id": "1dd5a5ee"
      },
      "outputs": [],
      "source": [
        "from transformers import AutoTokenizer\n",
        "\n",
        "checkpoint = \"distilbert-base-uncased-finetuned-sst-2-english\"\n",
        "tokenizer = AutoTokenizer.from_pretrained(checkpoint)"
      ]
    },
    {
      "cell_type": "markdown",
      "id": "59a9a8de",
      "metadata": {
        "id": "59a9a8de"
      },
      "source": [
        "Once we have the tokenizer, we can directly pass our sentences to it and we’ll get back a dictionary that’s ready to feed to our model! The only thing left to do is to convert the list of input IDs to tensors.\n",
        "\n",
        "You can use 🤗 Transformers without having to worry about which ML framework is used as a backend; it might be PyTorch or TensorFlow, or Flax for some models. However, Transformer models only accept tensors as input. If this is your first time hearing about tensors, you can think of them as NumPy arrays instead. A NumPy array can be a scalar (0D), a vector (1D), a matrix (2D), or have more dimensions. It’s effectively a tensor; other ML frameworks’ tensors behave similarly, and are usually as simple to instantiate as NumPy arrays.\n",
        "\n",
        "To specify the type of tensors we want to get back (PyTorch, TensorFlow, or plain NumPy), we use the **return_tensors** argument:"
      ]
    },
    {
      "cell_type": "code",
      "execution_count": null,
      "id": "58765a50",
      "metadata": {
        "id": "58765a50",
        "outputId": "892bf907-6829-45db-9eab-b29a4a466a9b"
      },
      "outputs": [
        {
          "name": "stdout",
          "output_type": "stream",
          "text": [
            "{'input_ids': <tf.Tensor: shape=(2, 16), dtype=int32, numpy=\n",
            "array([[  101,  1045,  1005,  2310,  2042,  3403,  2005,  1037, 17662,\n",
            "        12172,  2607,  2026,  2878,  2166,  1012,   102],\n",
            "       [  101,  1045,  5223,  2023,  2061,  2172,   999,   102,     0,\n",
            "            0,     0,     0,     0,     0,     0,     0]])>, 'attention_mask': <tf.Tensor: shape=(2, 16), dtype=int32, numpy=\n",
            "array([[1, 1, 1, 1, 1, 1, 1, 1, 1, 1, 1, 1, 1, 1, 1, 1],\n",
            "       [1, 1, 1, 1, 1, 1, 1, 1, 0, 0, 0, 0, 0, 0, 0, 0]])>}\n"
          ]
        }
      ],
      "source": [
        "raw_inputs = [\n",
        "    \"I've been waiting for a HuggingFace course my whole life.\",\n",
        "    \"I hate this so much!\"\n",
        "]\n",
        "\n",
        "inputs = tokenizer(raw_inputs, padding=True, truncation=True, return_tensors=\"tf\")\n",
        "print(inputs)"
      ]
    },
    {
      "cell_type": "markdown",
      "id": "6c791e25",
      "metadata": {
        "id": "6c791e25"
      },
      "source": [
        "Don’t worry about padding and truncation just yet; we’ll explain those later. The main things to remember here are that you can pass one sentence or a list of sentences, as well as specifying the type of tensors you want to get back (if no type is passed, you will get a list of lists as a result).\n",
        "\n",
        "The output itself is a dictionary containing two keys, **input_ids** and **attention_mask**. <br> \n",
        "**input_ids contains two rows of integers (one for each sentence) that are the unique identifiers of the tokens in each sentence.** We’ll explain what the attention_mask is later in this chapter."
      ]
    },
    {
      "cell_type": "markdown",
      "id": "7d7aa109",
      "metadata": {
        "id": "7d7aa109"
      },
      "source": [
        "### Going through the model\n",
        "We can download our pretrained model the same way we did with our tokenizer. 🤗 Transformers provides an **TFAutoModel** class which also has a **from_pretrained** method:"
      ]
    },
    {
      "cell_type": "code",
      "execution_count": null,
      "id": "eaad68dd",
      "metadata": {
        "id": "eaad68dd",
        "outputId": "bbebf29e-ab45-4762-efaf-5d97514c8120"
      },
      "outputs": [
        {
          "name": "stderr",
          "output_type": "stream",
          "text": [
            "Some layers from the model checkpoint at distilbert-base-uncased-finetuned-sst-2-english were not used when initializing TFDistilBertModel: ['classifier', 'dropout_19', 'pre_classifier']\n",
            "- This IS expected if you are initializing TFDistilBertModel from the checkpoint of a model trained on another task or with another architecture (e.g. initializing a BertForSequenceClassification model from a BertForPreTraining model).\n",
            "- This IS NOT expected if you are initializing TFDistilBertModel from the checkpoint of a model that you expect to be exactly identical (initializing a BertForSequenceClassification model from a BertForSequenceClassification model).\n",
            "All the layers of TFDistilBertModel were initialized from the model checkpoint at distilbert-base-uncased-finetuned-sst-2-english.\n",
            "If your task is similar to the task the model of the checkpoint was trained on, you can already use TFDistilBertModel for predictions without further training.\n"
          ]
        }
      ],
      "source": [
        "from transformers import TFAutoModel\n",
        "\n",
        "checkpoint = \"distilbert-base-uncased-finetuned-sst-2-english\"\n",
        "model = TFAutoModel.from_pretrained(checkpoint)"
      ]
    },
    {
      "cell_type": "markdown",
      "id": "12848bb8",
      "metadata": {
        "id": "12848bb8"
      },
      "source": [
        "In this code snippet, we have downloaded the same checkpoint we used in our pipeline before (it should actually have been cached already) and instantiated a model with it.\n",
        "\n",
        "This architecture contains only the base Transformer module: given some inputs, it outputs what we’ll call **hidden states**, also known as **features**. <br>\n",
        "For each model input, we’ll retrieve a high-dimensional vector representing the contextual understanding of that input by the Transformer model.\n",
        "\n",
        "If this doesn’t make sense, don’t worry about it. We’ll explain it all later.\n",
        "\n",
        "While these hidden states can be useful on their own, they’re usually inputs to another part of the model, known as **the head**. <br>\n",
        "In Chapter 1, the different tasks could have been performed with the same architecture, but **each of these tasks will have a different head associated with it.**\n",
        "\n",
        "### A high-dimensional vector?\n",
        "The vector output by the Transformer module is usually large. It generally has three dimensions:\n",
        "- **Batch size**: The number of sequences processed at a time (2 in our example).\n",
        "- **Sequence length**: The length of the numerical representation of the sequence (16 in our example).\n",
        "- **Hidden size**: The vector dimension of each model input.\n",
        "\n",
        "It is said to be “high dimensional” because of the last value. The **hidden size** can be very large (768 is common for smaller models, and in larger models this can reach 3072 or more).\n",
        "\n",
        "We can see this if we feed the inputs we preprocessed to our model:"
      ]
    },
    {
      "cell_type": "code",
      "execution_count": null,
      "id": "b508ed4c",
      "metadata": {
        "id": "b508ed4c",
        "outputId": "ac7bf903-a8b0-4670-f139-d610b981b53d"
      },
      "outputs": [
        {
          "name": "stdout",
          "output_type": "stream",
          "text": [
            "(2, 16, 768)\n"
          ]
        }
      ],
      "source": [
        "outputs = model(inputs)\n",
        "print(outputs.last_hidden_state.shape)"
      ]
    },
    {
      "cell_type": "markdown",
      "id": "5cbdd8da",
      "metadata": {
        "id": "5cbdd8da"
      },
      "source": [
        "Note that the outputs of 🤗 Transformers models behave like namedtuples or dictionaries. You can access the elements by **attributes** (like we did) or by **key** (outputs[\"last_hidden_state\"]), or even by **index** if you know exactly where the thing you are looking for is (outputs[0])."
      ]
    },
    {
      "cell_type": "markdown",
      "id": "5f10dd34",
      "metadata": {
        "id": "5f10dd34"
      },
      "source": [
        "### Model heads: Making sense out of numbers\n",
        "The **model heads** take the high-dimensional vector of hidden states as input and project them onto a different dimension. They are usually composed of one or a few linear layers:\n",
        "![transformer_and_head](https://huggingface.co/course/static/chapter2/transformer_and_head.png \"transformer_and_head\")\n",
        "\n",
        "**The output of the Transformer model is sent directly to the model head to be processed.**\n",
        "\n",
        "In this diagram, the model is represented by its embeddings layer and the subsequent layers. **The embeddings layer converts each input ID in the tokenized input into a vector that represents the associated token.** <br>\n",
        "**The subsequent layers manipulate those vectors using the attention mechanism to produce the final representation of the sentences.**\n",
        "\n",
        "There are many different architectures available in 🤗 Transformers, with each one designed around tackling a specific task. Here is a non-exhaustive list:\n",
        "- *Model (retrieve the hidden states)\n",
        "- *ForCausalLM\n",
        "- *ForMaskedLM\n",
        "- *ForMultipleChoice\n",
        "- *ForQuestionAnswering\n",
        "- *ForSequenceClassification\n",
        "- *ForTokenClassification\n",
        "- and others 🤗\n",
        "\n",
        "For our example, we will need a **model with a sequence classification head (to be able to classify the sentences as positive or negative).** <br>\n",
        "So, we won’t actually use the TFAutoModel class, but **TFAutoModelForSequenceClassification:**"
      ]
    },
    {
      "cell_type": "code",
      "execution_count": null,
      "id": "654eec23",
      "metadata": {
        "id": "654eec23",
        "outputId": "106b8ad6-8ddc-4cb9-cb0e-a571cbe15031"
      },
      "outputs": [
        {
          "name": "stderr",
          "output_type": "stream",
          "text": [
            "Some layers from the model checkpoint at distilbert-base-uncased-finetuned-sst-2-english were not used when initializing TFDistilBertForSequenceClassification: ['dropout_19']\n",
            "- This IS expected if you are initializing TFDistilBertForSequenceClassification from the checkpoint of a model trained on another task or with another architecture (e.g. initializing a BertForSequenceClassification model from a BertForPreTraining model).\n",
            "- This IS NOT expected if you are initializing TFDistilBertForSequenceClassification from the checkpoint of a model that you expect to be exactly identical (initializing a BertForSequenceClassification model from a BertForSequenceClassification model).\n",
            "Some layers of TFDistilBertForSequenceClassification were not initialized from the model checkpoint at distilbert-base-uncased-finetuned-sst-2-english and are newly initialized: ['dropout_58']\n",
            "You should probably TRAIN this model on a down-stream task to be able to use it for predictions and inference.\n"
          ]
        }
      ],
      "source": [
        "from transformers import TFAutoModelForSequenceClassification\n",
        "\n",
        "checkpoint = \"distilbert-base-uncased-finetuned-sst-2-english\"\n",
        "model = TFAutoModelForSequenceClassification.from_pretrained(checkpoint)\n",
        "outputs = model(inputs)"
      ]
    },
    {
      "cell_type": "markdown",
      "id": "0f448e2b",
      "metadata": {
        "id": "0f448e2b"
      },
      "source": [
        "Now if we look at the shape of our inputs, the dimensionality will be much lower: the model head takes as input the high-dimensional vectors we saw before, and outputs vectors containing two values (**one per label**):"
      ]
    },
    {
      "cell_type": "code",
      "execution_count": null,
      "id": "c33518dc",
      "metadata": {
        "id": "c33518dc",
        "outputId": "d7fc6db3-2250-4f11-85c5-c5acb4bdc2e5"
      },
      "outputs": [
        {
          "name": "stdout",
          "output_type": "stream",
          "text": [
            "(2, 2)\n"
          ]
        }
      ],
      "source": [
        "print(outputs.logits.shape)"
      ]
    },
    {
      "cell_type": "markdown",
      "id": "30eb894a",
      "metadata": {
        "id": "30eb894a"
      },
      "source": [
        "Since we have just two sentences and two labels, the result we get from our model is of shape 2 x 2."
      ]
    },
    {
      "cell_type": "markdown",
      "id": "40baef5d",
      "metadata": {
        "id": "40baef5d"
      },
      "source": [
        "### Postprocessing the output\n",
        "The values we get as output from our model don’t necessarily make sense by themselves. Let’s take a look:"
      ]
    },
    {
      "cell_type": "code",
      "execution_count": null,
      "id": "958677e8",
      "metadata": {
        "id": "958677e8",
        "outputId": "01dc5731-8cb8-4b1e-efa7-432103e3b5ae"
      },
      "outputs": [
        {
          "name": "stdout",
          "output_type": "stream",
          "text": [
            "tf.Tensor(\n",
            "[[-1.5606961  1.6122813]\n",
            " [ 4.169231  -3.3464477]], shape=(2, 2), dtype=float32)\n"
          ]
        }
      ],
      "source": [
        "print(outputs.logits)"
      ]
    },
    {
      "cell_type": "markdown",
      "id": "c8e6315a",
      "metadata": {
        "id": "c8e6315a"
      },
      "source": [
        "Our model predicted [-1.5607, 1.6123] for the first sentence and [ 4.1692, -3.3464] for the second one. Those are not probabilities but logits, **the raw, unnormalized scores outputted by the last layer of the model.** To be converted to probabilities, they need to go through a [SoftMax layer](https://en.wikipedia.org/wiki/Softmax_function) (all 🤗 Transformers models output the logits, as the loss function for training will generally fuse the last activation function, such as SoftMax, with the actual loss function, such as cross entropy):"
      ]
    },
    {
      "cell_type": "code",
      "execution_count": null,
      "id": "15249ee4",
      "metadata": {
        "id": "15249ee4",
        "outputId": "b5f2b601-89de-4b6c-a8e3-d26acf1c5326"
      },
      "outputs": [
        {
          "name": "stdout",
          "output_type": "stream",
          "text": [
            "tf.Tensor(\n",
            "[[4.0195394e-02 9.5980465e-01]\n",
            " [9.9945587e-01 5.4418424e-04]], shape=(2, 2), dtype=float32)\n"
          ]
        }
      ],
      "source": [
        "import tensorflow as tf\n",
        "\n",
        "predictions = tf.math.softmax(outputs.logits, axis=-1)\n",
        "print(predictions)"
      ]
    },
    {
      "cell_type": "markdown",
      "id": "e575ed8e",
      "metadata": {
        "id": "e575ed8e"
      },
      "source": [
        "Now we can see that the model predicted [0.0402, 0.9598] for the first sentence and [0.9995, 0.0005] for the second one. These are recognizable **probability scores.**\n",
        "\n",
        "To get the labels corresponding to each position, we can inspect the **id2label** attribute of the model config (more on this in the next section):"
      ]
    },
    {
      "cell_type": "code",
      "execution_count": null,
      "id": "e00f40d6",
      "metadata": {
        "id": "e00f40d6",
        "outputId": "a0d08407-b72a-4daf-8ca9-fbd4e2fa64db"
      },
      "outputs": [
        {
          "data": {
            "text/plain": [
              "{0: 'NEGATIVE', 1: 'POSITIVE'}"
            ]
          },
          "execution_count": 11,
          "metadata": {},
          "output_type": "execute_result"
        }
      ],
      "source": [
        "model.config.id2label"
      ]
    },
    {
      "cell_type": "markdown",
      "id": "e2573745",
      "metadata": {
        "id": "e2573745"
      },
      "source": [
        "Now we can conclude that the model predicted the following:\n",
        "\n",
        "- First sentence: NEGATIVE: 0.0402, POSITIVE: 0.9598\n",
        "- Second sentence: NEGATIVE: 0.9995, POSITIVE: 0.0005\n",
        "\n",
        "We have successfully reproduced the three steps of the pipeline: \n",
        "- preprocessing with tokenizers, \n",
        "- passing the inputs through the model, \n",
        "- and postprocessing!\n",
        "\n",
        "Now let’s take some time to dive deeper into each of those steps."
      ]
    }
  ],
  "metadata": {
    "kernelspec": {
      "display_name": "Python 3 (ipykernel)",
      "language": "python",
      "name": "python3"
    },
    "language_info": {
      "codemirror_mode": {
        "name": "ipython",
        "version": 3
      },
      "file_extension": ".py",
      "mimetype": "text/x-python",
      "name": "python",
      "nbconvert_exporter": "python",
      "pygments_lexer": "ipython3",
      "version": "3.9.7"
    },
    "toc": {
      "base_numbering": 1,
      "nav_menu": {},
      "number_sections": false,
      "sideBar": true,
      "skip_h1_title": false,
      "title_cell": "Table of Contents",
      "title_sidebar": "Contents",
      "toc_cell": false,
      "toc_position": {},
      "toc_section_display": true,
      "toc_window_display": false
    },
    "varInspector": {
      "cols": {
        "lenName": 16,
        "lenType": 16,
        "lenVar": 40
      },
      "kernels_config": {
        "python": {
          "delete_cmd_postfix": "",
          "delete_cmd_prefix": "del ",
          "library": "var_list.py",
          "varRefreshCmd": "print(var_dic_list())"
        },
        "r": {
          "delete_cmd_postfix": ") ",
          "delete_cmd_prefix": "rm(",
          "library": "var_list.r",
          "varRefreshCmd": "cat(var_dic_list()) "
        }
      },
      "types_to_exclude": [
        "module",
        "function",
        "builtin_function_or_method",
        "instance",
        "_Feature"
      ],
      "window_display": false
    },
    "colab": {
      "name": "01_behind_the_pipeline.ipynb",
      "provenance": [],
      "toc_visible": true,
      "include_colab_link": true
    }
  },
  "nbformat": 4,
  "nbformat_minor": 5
}